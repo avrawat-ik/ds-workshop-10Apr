{
  "cells": [
    {
      "cell_type": "markdown",
      "metadata": {
        "id": "93xL8nhOOAa2"
      },
      "source": [
        "# Exploration Amazon Notebook\n",
        "Amazon Prime is another one of the most popular media and video streaming platforms. They have close to 10000 movies or tv shows available on their platform, as of mid-2021, they have over 200M Subscribers globally.\n",
        "\n",
        "This tabular dataset consists of listings of all the movies and tv shows available on Amazon Prime, along with details such as - cast, directors, ratings, release year, duration, etc.\n",
        "\n",
        "As a data scientist working for Amazon Prime Video, your task is to improve the platform's recommendation system to enhance user engagement and satisfaction. With the wealth of data available, you aim to develop a personalized recommendation algorithm that suggests movies and TV shows tailored to each user's preferences."
      ]
    },
    {
      "cell_type": "code",
      "execution_count": null,
      "metadata": {
        "id": "fig3RvP6OAa5"
      },
      "outputs": [],
      "source": [
        "#For data handling\n",
        "import pandas as pd\n",
        "import numpy as np\n",
        "\n",
        "#For visualization\n",
        "import matplotlib.pyplot as plt\n",
        "import seaborn as sns\n",
        "\n",
        "#For handling categorical and missing data\n",
        "from sklearn.preprocessing import OneHotEncoder, StandardScaler, LabelEncoder, MultiLabelBinarizer\n",
        "\n",
        "from sklearn.compose import ColumnTransformer\n",
        "from sklearn.pipeline import Pipeline\n",
        "from sklearn.impute import SimpleImputer\n",
        "\n",
        "from sklearn.metrics.pairwise import cosine_similarity\n",
        "\n",
        "#Creating the train test split\n",
        "from sklearn.model_selection import train_test_split\n",
        "import re\n",
        "\n",
        "# Importing library\n",
        "from scipy.stats import skew, kurtosis\n",
        "\n",
        "sns.set_style('darkgrid')"
      ]
    },
    {
      "cell_type": "code",
      "execution_count": null,
      "metadata": {
        "id": "pDygH0gewBgR"
      },
      "outputs": [],
      "source": [
        "!pip install -U sentence-transformers umap-learn hdbscan bertopic"
      ]
    },
    {
      "cell_type": "code",
      "execution_count": null,
      "metadata": {
        "id": "L0F1MsKkwV93"
      },
      "outputs": [],
      "source": [
        "from umap import UMAP\n",
        "from hdbscan import HDBSCAN\n",
        "from sentence_transformers import SentenceTransformer\n",
        "from sklearn.feature_extraction.text import CountVectorizer\n",
        "\n",
        "from bertopic import BERTopic\n",
        "from bertopic.vectorizers import ClassTfidfTransformer"
      ]
    },
    {
      "cell_type": "markdown",
      "metadata": {
        "id": "PFE3oXBbOAa6"
      },
      "source": [
        "# Pull in data\n",
        "Look at the initial records of the data and perform elementary EDA."
      ]
    },
    {
      "cell_type": "code",
      "execution_count": null,
      "metadata": {
        "id": "BxvZz0pNOAa6"
      },
      "outputs": [],
      "source": [
        "# read in the data via read_csv\n",
        "df = pd.read_csv('sample_data/amazon_prime_titles.csv')"
      ]
    },
    {
      "cell_type": "code",
      "execution_count": null,
      "metadata": {
        "id": "9qqZAvjnOAa7"
      },
      "outputs": [],
      "source": [
        "# view the top 5 rows of the data\n",
        "df.head()"
      ]
    },
    {
      "cell_type": "code",
      "execution_count": null,
      "metadata": {
        "id": "AQk3Oja_OAa7"
      },
      "outputs": [],
      "source": [
        "# view the dimensions of the data using df.shape\n",
        "df.shape"
      ]
    },
    {
      "cell_type": "code",
      "execution_count": null,
      "metadata": {
        "id": "WRsNcSv7OAa8"
      },
      "outputs": [],
      "source": [
        "# look at data types as well as missing values in the dataset\n",
        "df.info()"
      ]
    },
    {
      "cell_type": "markdown",
      "metadata": {
        "id": "kZObrEbFOAa8"
      },
      "source": [
        "Notice that there is a lot of missing values in various columns. Let's go ahead and impute them (i.e., deal with them by filling). Percentage wise how much does each feature have in null values."
      ]
    },
    {
      "cell_type": "code",
      "execution_count": null,
      "metadata": {
        "id": "lzFZXTLGOAa8"
      },
      "outputs": [],
      "source": [
        "# get a percentage of missing values in each column\n",
        "# round each missing percentage two decimal units\n",
        "df['date_added'].isna().sum()/len(df)\n",
        "\n",
        "np.round(df.isna().sum()/len(df), 4) * 100"
      ]
    },
    {
      "cell_type": "markdown",
      "metadata": {
        "id": "Tz9kCvnbOAa9"
      },
      "source": [
        "Given that the `director`, `cast`, `data_added`, and `rating` are null and there's no real way of finding them with the given data, let's just impute them with `Unknown`.\n",
        "\n",
        "This command is often forgotten, so let's ask Google Colab's AI assistant to help with this. Ask it something like: `fill in null values of director, cast, data_added, and rating in the data frame`"
      ]
    },
    {
      "cell_type": "code",
      "execution_count": null,
      "metadata": {
        "id": "5I2bkB7UOAa9"
      },
      "outputs": [],
      "source": [
        "# fill in director, date_added, cast, rating column with 'Unknown' value for nulls\n",
        "# prompt: how to fill null values of a column in a pandas dataframe\n"
      ]
    },
    {
      "cell_type": "markdown",
      "metadata": {
        "id": "lO8oZdE6OAa9"
      },
      "source": [
        "Looking at the `country` column, most movies and shows are mostly null and they are predominately made in the US (just from observation) so we are going to fill the nulls in with the most frequent value.\n",
        "\n",
        "Let's ask Google's assistant again. Ask is something like this: `impute missing values of a country column using sklearn SimpleImputer`"
      ]
    },
    {
      "cell_type": "code",
      "execution_count": null,
      "metadata": {
        "id": "OhKHW3lvOAa9"
      },
      "outputs": [],
      "source": [
        "# use an imputer to fill in all the missing values\n",
        "# easier ways to do this, but this is good to get\n",
        "# practice with especially with productionization.\n"
      ]
    },
    {
      "cell_type": "markdown",
      "metadata": {
        "id": "g5XNH1NHOAa9"
      },
      "source": [
        "Check to make sure that there are no more null features."
      ]
    },
    {
      "cell_type": "code",
      "execution_count": null,
      "metadata": {
        "id": "aF6Wp4gqOAa9"
      },
      "outputs": [],
      "source": [
        "# use the same code as before\n",
        "np.round(df.isna().sum()/len(df), 4) * 100"
      ]
    },
    {
      "cell_type": "code",
      "execution_count": null,
      "metadata": {
        "id": "AfF3CnU4OAa9"
      },
      "outputs": [],
      "source": [
        "# look at a few different examples.\n",
        "df.sample(7)"
      ]
    },
    {
      "cell_type": "markdown",
      "metadata": {
        "id": "tHLdADAEOAa-"
      },
      "source": [
        "We notice that the dataset contains TV Shows and Movies, let's see the distribution of each kind. Also, is there a relationship between the type and directors."
      ]
    },
    {
      "cell_type": "code",
      "execution_count": null,
      "metadata": {
        "id": "Ougj048HOAa-"
      },
      "outputs": [],
      "source": [
        "# see that there are movies and tv shows\n",
        "movie_tv = df.type.value_counts(normalize=False)\\\n",
        "                  .rename('number')\\\n",
        "                  .to_frame()\\\n",
        "                  .reset_index()\\\n",
        "                  .rename(columns={'index':'type'})\n",
        "\n",
        "plt.figure(figsize=(6, 6))\n",
        "ax = sns.barplot(movie_tv, x='type', y='number')\n",
        "plt.title('Number of TV Shows vs Movies')\n",
        "ax.bar_label(ax.containers[0])\n",
        "plt.plot();"
      ]
    },
    {
      "cell_type": "code",
      "execution_count": null,
      "metadata": {
        "id": "h2UVji4IOAa-"
      },
      "outputs": [],
      "source": [
        "# get the top 15 directors by count - use the value counts method"
      ]
    },
    {
      "cell_type": "code",
      "execution_count": null,
      "metadata": {
        "id": "k0PuHf0UOAa-"
      },
      "outputs": [],
      "source": [
        "# there are a good amount of unknown directors so\n",
        "# find out if the unknown directors\n",
        "# correspond to movies or tv shows more\n",
        "# what do you notice?\n",
        "\n",
        "#### df[df.director == 'Unknown'].type.value_counts(normalize=True)"
      ]
    },
    {
      "cell_type": "code",
      "execution_count": null,
      "metadata": {
        "id": "BrlX6N4VOAa-"
      },
      "outputs": [],
      "source": [
        "# what do you notice about the\n",
        "# directors for all tv shows in the\n",
        "# data frame\n",
        "\n",
        "#### df[df.type == 'TV Show'].director.value_counts()"
      ]
    },
    {
      "cell_type": "markdown",
      "metadata": {
        "id": "u9pvIsXLOAa-"
      },
      "source": [
        "# Ratings Exploration\n",
        "Let's look at the distribution of ratings in the dataset and see if there are any correlations between ratings and type."
      ]
    },
    {
      "cell_type": "code",
      "execution_count": null,
      "metadata": {
        "id": "8oLPe6XbOAa-"
      },
      "outputs": [],
      "source": [
        "# plot a distribution of ratings amoung all\n",
        "# movies and tv shows\n",
        "plt.figure(figsize=(10, 6))\n",
        "sns.countplot(x='rating', data=df, order=df['rating'].value_counts().index)\n",
        "plt.title('Distribution of Ratings')\n",
        "plt.xlabel('Rating')\n",
        "plt.ylabel('Number of Movies')\n",
        "plt.xticks(rotation=45, ha='right')\n",
        "plt.show()"
      ]
    },
    {
      "cell_type": "code",
      "execution_count": null,
      "metadata": {
        "id": "qAF84SzgOAa_"
      },
      "outputs": [],
      "source": [
        "# Distribution of ratings and correlation to type\n",
        "plt.figure(figsize=(10, 8))\n",
        "ax = sns.countplot(y='rating',\n",
        "                   data=df,\n",
        "                   order=df['rating'].value_counts().index,\n",
        "                   hue='type')\n",
        "plt.title('Distribution of Ratings with Types')\n",
        "plt.xlabel('Rating')\n",
        "plt.ylabel('Number of Movies')\n",
        "plt.xticks(rotation=45, ha='right')\n",
        "ax.bar_label(ax.containers[0])\n",
        "ax.bar_label(ax.containers[1])\n",
        "plt.show()"
      ]
    },
    {
      "cell_type": "markdown",
      "metadata": {
        "id": "-2G0bIZgOAa_"
      },
      "source": [
        "# Listings Exploration\n",
        "Let's take a deeper dive into the `listed_in` feature and notice if we see anything. This is also commonly known as the genres of the tv shows and movies. Let's take a deeper dive into this."
      ]
    },
    {
      "cell_type": "code",
      "execution_count": null,
      "metadata": {
        "id": "jnAGWayhOAa_"
      },
      "outputs": [],
      "source": [
        "# get the number of unique values inside\n",
        "# of the listed_in feature\n",
        "\n",
        "#### df['listed_in'].nunique()"
      ]
    },
    {
      "cell_type": "code",
      "execution_count": null,
      "metadata": {
        "id": "Xkd7BnKTOAa_"
      },
      "outputs": [],
      "source": [
        "# plot the top genres\n",
        "top_genres = df['listed_in'].value_counts().head(15).index.tolist()\n",
        "\n",
        "# get all records that correspond to the top genres\n",
        "top_genre_df = df[df.listed_in.isin(top_genres)]\n",
        "# Plot Top Genres\n",
        "plt.figure(figsize=(12, 8))\n",
        "ax = sns.countplot(data = top_genre_df, y='listed_in', hue='type')\n",
        "plt.title('Top 15 Genres')\n",
        "plt.xlabel('Number of Movies')\n",
        "plt.ylabel('Genre')\n",
        "ax.bar_label(ax.containers[0])\n",
        "ax.bar_label(ax.containers[1])\n",
        "plt.show()"
      ]
    },
    {
      "cell_type": "markdown",
      "metadata": {
        "id": "gGO9miVOOAa_"
      },
      "source": [
        "Notice that there is some overlap in the genres. For example, `comedy` is in `comedy` as well as  `comedy, drama`. Let's see if we can separate the features from each other and just to a plain count of how often the individual genres occur."
      ]
    },
    {
      "cell_type": "code",
      "execution_count": null,
      "metadata": {
        "id": "YVHvUxa5Wlo7"
      },
      "outputs": [],
      "source": [
        "# really long genre related to Arts, Entertainment, and Culture, let's make it\n",
        "# one genre by replacing where the comma is.\n",
        "df['listed_in'] = df.listed_in.apply(lambda x : re.sub('Arts, Entertainment, and Culture', 'Arts Entertainment and Culture', x)\n",
        "                                                if re.search('Arts, Entertainment, and Culture', x) else x)"
      ]
    },
    {
      "cell_type": "code",
      "execution_count": null,
      "metadata": {
        "id": "qJtgWYQrOAa_"
      },
      "outputs": [],
      "source": [
        "# split the listed_in features and get a list\n",
        "# inside a new feature called 'genres'\n",
        "df['genres'] = df['listed_in'].apply(lambda x : [z.strip(' ') for z in x.split(',')])\n",
        "\n",
        "df.head()"
      ]
    },
    {
      "cell_type": "markdown",
      "metadata": {
        "id": "nuvqMu2gCVqi"
      },
      "source": [
        "If we want to find out how often a certain genre appears across all movies (for example, how often does just `comedy` appear), we need to one hot encode the `listed_in` feature. That can be tricky to do if we have lists. This is where MultiLabelBinarizer comes into the picture and does the OHE for us! For more information on MultilabelBinarizer see [this](https://scikit-learn.org/stable/modules/generated/sklearn.preprocessing.MultiLabelBinarizer.html)."
      ]
    },
    {
      "cell_type": "code",
      "execution_count": null,
      "metadata": {
        "id": "MIagd5KfOAa_"
      },
      "outputs": [],
      "source": [
        "# use the MultilabelBinarizer to one hot encode features\n",
        "# this will give you an array of genres\n",
        "\n",
        "# create a MultiLabelBinarizer object\n",
        "mlb = MultiLabelBinarizer()\n",
        "\n",
        "# fit_transform the MultilabelBinarizer on the\n",
        "# newly found genres column.\n",
        "mlb.fit_transform(df['genres'])"
      ]
    },
    {
      "cell_type": "code",
      "execution_count": null,
      "metadata": {
        "id": "CDUtVmKWOAa_"
      },
      "outputs": [],
      "source": [
        "# look at the classes that the multilabel binarizer found\n",
        "# these are the genres that have been listed inside the dataset.\n",
        "mlb.classes_"
      ]
    },
    {
      "cell_type": "code",
      "execution_count": null,
      "metadata": {
        "id": "EbFFocCIOAa_"
      },
      "outputs": [],
      "source": [
        "# create a data frame with the rows as listed_in\n",
        "# and the columns the new found individual dramas.\n",
        "df_mlb = pd.DataFrame(mlb.fit_transform(df['genres']), columns=mlb.classes_, index=df.index)\n",
        "\n",
        "df_genre = pd.concat([df[['title', 'type', 'listed_in', 'genres']], df_mlb], axis=1)\n",
        "\n",
        "df_genre.head()"
      ]
    },
    {
      "cell_type": "code",
      "execution_count": null,
      "metadata": {
        "id": "hNa-WjEJOAbA"
      },
      "outputs": [],
      "source": [
        "# see how often each genre occured across the TV shows and Movies.\n",
        "\n",
        "# TV Shows\n",
        "df_genre[df_genre.type == 'TV Show'].iloc[:, 4:]\\\n",
        "                                    .sum(axis=0)\\\n",
        "                                    .sort_values(ascending=False)\\\n",
        "                                    .head(15)"
      ]
    },
    {
      "cell_type": "code",
      "execution_count": null,
      "metadata": {
        "id": "8wQjsxN-OAbA"
      },
      "outputs": [],
      "source": [
        "# Movies\n",
        "df_genre[df_genre.type == 'Movie'].iloc[:, 4:]\\\n",
        "                                  .sum(axis=0)\\\n",
        "                                  .sort_values(ascending=False)\\\n",
        "                                  .head(15)"
      ]
    },
    {
      "cell_type": "markdown",
      "metadata": {
        "id": "mx0VJbG_OAbA"
      },
      "source": [
        "# Duration Exploration\n",
        "Do some exploration on the duration. The duration of the movies and TV shows can vary depending on type of movie, genre etc. Let's do some exploration there to see if there is anything to discover."
      ]
    },
    {
      "cell_type": "code",
      "execution_count": null,
      "metadata": {
        "id": "B-69f2IEOAbA"
      },
      "outputs": [],
      "source": [
        "# get all of the unique values\n",
        "# inside of the duration feature\n",
        "# what do you notice\n",
        "\n",
        "#### df.duration.unique()"
      ]
    },
    {
      "cell_type": "code",
      "execution_count": null,
      "metadata": {
        "id": "Q0Ci9WBtOAbB"
      },
      "outputs": [],
      "source": [
        "# create a new feature called 'duration_season'\n",
        "# where we indicate if the duration\n",
        "# feature has 'season' in the title or not.\n",
        "# maybe there is some correlation there between that and TV shows\n",
        "# use the regex library from python\n",
        "df['duration_season'] = df.duration.apply(lambda x : True if re.search('season', x.lower()) else False)"
      ]
    },
    {
      "cell_type": "code",
      "execution_count": null,
      "metadata": {
        "id": "0iV3hAL_OAbB"
      },
      "outputs": [],
      "source": [
        "# plot the movies vs tv shows and see how many of them have\n",
        "# seasons in the duration title.\n",
        "# what do you notice?\n",
        "plt.figure(figsize=(6, 6))\n",
        "ax=sns.countplot(df, x='type', hue='duration_season')\n",
        "plt.title('Seasons in TV shows vs Movies')\n",
        "ax.bar_label(ax.containers[0])\n",
        "ax.bar_label(ax.containers[1])\n",
        "plt.plot();"
      ]
    },
    {
      "cell_type": "markdown",
      "metadata": {
        "id": "Xjeh8EdzOAbB"
      },
      "source": [
        "So all TV Shows are measured in seasons rather than minutes, which makes sense. Let's clean this data up and see if we can view any correlations between duration and genre type"
      ]
    },
    {
      "cell_type": "markdown",
      "metadata": {
        "id": "l0cfk15hbdwC"
      },
      "source": [
        "## Movie Duration Exploration\n",
        "Let's do movies first and see if we can find some interesting insights within the movies in terms of duration time."
      ]
    },
    {
      "cell_type": "code",
      "execution_count": null,
      "metadata": {
        "id": "PT3w3G6AOAbX"
      },
      "outputs": [],
      "source": [
        "# get all of the movies based off of our new feature (we could also use the type feature)\n",
        "df_movies = df[df.duration_season==False].copy()\n",
        "\n",
        "# create a new feature which strips the 'min' from the feature value\n",
        "# and gets a numerical value for the length of the movie. Call this 'duration_time'.\n",
        "df_movies['duration_time'] = df_movies.duration.apply(lambda x : x.split('min')[0]).astype(int)\n",
        "df_movies.sample(3)"
      ]
    },
    {
      "cell_type": "code",
      "execution_count": null,
      "metadata": {
        "id": "RiNV5hxLOAbX"
      },
      "outputs": [],
      "source": [
        "# plot a distribution of duration time for the movies, what do you notice?\n",
        "plt.figure(figsize=(10, 8))\n",
        "sns.histplot(data=df_movies, x ='duration_time', bins=50)\n",
        "plt.show()"
      ]
    },
    {
      "cell_type": "code",
      "execution_count": null,
      "metadata": {
        "id": "BLp_LzT0OAbY"
      },
      "outputs": [],
      "source": [
        "# give the descriptive statistics of the duration_time feature\n",
        "# what do you notice?\n",
        "\n",
        "df_movies.duration_time.describe()"
      ]
    },
    {
      "cell_type": "code",
      "execution_count": null,
      "metadata": {
        "id": "TnZddKiVOAbY"
      },
      "outputs": [],
      "source": [
        "# there's a really long tail in the distribution of times\n",
        "# let's look into the tail and see what kind of movies there are.\n",
        "# pick a time in minutes, say 400 and look at a sample\n",
        "# of movies that have duration past that length\n",
        "\n",
        "### df_movies[df_movies.duration_time>400].sample(9)"
      ]
    },
    {
      "cell_type": "code",
      "execution_count": null,
      "metadata": {
        "id": "iUlR1NrhOAbY"
      },
      "outputs": [],
      "source": [
        "# most of these really long movies are\n",
        "# coming from what director?\n",
        "\n",
        "#### df_movies[df_movies.duration_time>400].director.value_counts()"
      ]
    },
    {
      "cell_type": "markdown",
      "metadata": {
        "id": "j1Uf96KUOAbY"
      },
      "source": [
        "Looking at the descriptions of these really long movies, it seems like they are all ambient noise movies. These movies provide white noise to aid in sleeping and relaxation."
      ]
    },
    {
      "cell_type": "code",
      "execution_count": null,
      "metadata": {
        "id": "ZqH7O2IcOAbY"
      },
      "outputs": [],
      "source": [
        "# removing these outliers you can see a much more symmetric curve\n",
        "# of movie times. What do you notice about the movie duration times? Does it look\n",
        "# similar to a type of distribution that you have seen before?\n",
        "plt.figure(figsize=(10, 8))\n",
        "sns.histplot(data=df_movies[df_movies.duration_time<=400],\n",
        "             x ='duration_time',\n",
        "             bins=50,\n",
        "             kde=True)\n",
        "plt.show()"
      ]
    },
    {
      "cell_type": "code",
      "execution_count": null,
      "metadata": {
        "id": "wsQudvo5OAbY"
      },
      "outputs": [],
      "source": [
        "# looks like there are also movies with <10 minutes in length? Why?\n",
        "df_movies[df_movies.duration_time <= 10].listed_in.value_counts().head(15)"
      ]
    },
    {
      "cell_type": "code",
      "execution_count": null,
      "metadata": {
        "id": "VSUfZAIYOAbY"
      },
      "outputs": [],
      "source": [
        "# what kind of movies are these?\n",
        "df_movies[df_movies.duration_time <= 10].sample(3)"
      ]
    },
    {
      "cell_type": "code",
      "execution_count": null,
      "metadata": {
        "id": "YD4UAwZ4OAbY"
      },
      "outputs": [],
      "source": [
        "# removing these outliers you can see a much more normal distribution\n",
        "# of movie times. What do you notice about the movie duration times?\n",
        "# Does it look similar to a type of distribution that you have seen before?\n",
        "plt.figure(figsize=(10, 8))\n",
        "sns.histplot(data=df_movies[(df_movies.duration_time<=400) &\n",
        "                            (df_movies.duration_time>=10)],\n",
        "                            x ='duration_time', bins=50, kde=True)\n",
        "plt.show()"
      ]
    },
    {
      "cell_type": "code",
      "execution_count": null,
      "metadata": {
        "id": "_HCbT_QyOAbY"
      },
      "outputs": [],
      "source": [
        "# calculate some stats on the distribution\n",
        "# in particular skew and the kurtosis of it\n",
        "duration_time_non_tail = df_movies[(df_movies.duration_time<=400)\n",
        "                                  & (df_movies.duration_time>=10)].duration_time.values\n",
        "\n",
        "# print(f\"The skew of the duration_time is: {skew(duration_time_non_tail)}\")\n",
        "\n",
        "# print(f\"The kurtosis of the duration_time is: {kurtosis(duration_time_non_tail)}\")"
      ]
    },
    {
      "cell_type": "code",
      "execution_count": null,
      "metadata": {
        "id": "NpyGiE5vOAbY"
      },
      "outputs": [],
      "source": [
        "# calcualte some general descriptive statistics of the movies lengths\n",
        "df_movies[(df_movies.duration_time<=400) & (df_movies.duration_time>=10)].duration_time.describe()"
      ]
    },
    {
      "cell_type": "markdown",
      "metadata": {
        "id": "u93-vwsgb7Tc"
      },
      "source": [
        "## Movie Duration Exploration vs Genre\n",
        "Are there any interesting insights between the genre and the duration time e.g., avg movie lengths by genre, are comedies usually shorter than dramas etc.?"
      ]
    },
    {
      "cell_type": "code",
      "execution_count": null,
      "metadata": {
        "id": "LiLZZXtsG_rD"
      },
      "outputs": [],
      "source": [
        "# group by listed_in feature and look at the average\n",
        "# duration time across multiple genres\n",
        "df_movies.groupby('listed_in').duration_time.mean().sort_values(ascending=False)"
      ]
    },
    {
      "cell_type": "code",
      "execution_count": null,
      "metadata": {
        "id": "Cr1vjGYgFqUL"
      },
      "outputs": [],
      "source": [
        "## As was mentioned in the genre section, because of the duplicates\n",
        "## you can't really get a full picture of how the genres relate to\n",
        "## movie lengths because Drama, Comedy is considered different from Drama or Comedy.\n",
        "## let's use the genres data frame to calculate more descriptive\n",
        "## features by individual dramas.\n",
        "\n",
        "# get the movies and merge them onto the genres\n",
        "# df_movies merge onto df_genres, on title and listed in\n",
        "# do a left join just to be safe\n",
        "df_movie_genre = df_movies.merge(df_genre, on=['title', 'listed_in'], how='left')\n",
        "\n",
        "df_movie_genre.head()"
      ]
    },
    {
      "cell_type": "code",
      "execution_count": null,
      "metadata": {
        "id": "pG3djIT7HXW_"
      },
      "outputs": [],
      "source": [
        "# use the mlb binarizer to get the genre names\n",
        "# in the form of a list. Make sure to remove TV shows\n",
        "# since those aren't measure in minutes\n",
        "genres = [genre for genre in mlb.classes_.tolist() if genre != 'TV Shows']"
      ]
    },
    {
      "cell_type": "code",
      "execution_count": null,
      "metadata": {
        "id": "4W6nrIrGQTrb"
      },
      "outputs": [],
      "source": [
        "# intiial group by that we'll be calculating\n",
        "df_movie_genre.groupby(f'Action').duration_time.agg(['size','mean']).reset_index()"
      ]
    },
    {
      "cell_type": "code",
      "execution_count": null,
      "metadata": {
        "id": "iu6yl5xHENd9"
      },
      "outputs": [],
      "source": [
        "# create an empty dictionary that\n",
        "# will keep track of genres and their avg minutes\n",
        "genre_duration_time_dict = {}\n",
        "\n",
        "# go through each genre, find the average duration time\n",
        "# and place that value in the dictionary with the genre as a key\n",
        "for genre in genres:\n",
        "  # group by to get total movies per genre and their avg time\n",
        "  gen_df = df_movie_genre.groupby(f'{genre}')\\\n",
        "                         .duration_time\\\n",
        "                         .agg(['size','mean'])\\\n",
        "                         .reset_index()\n",
        "  # get the total number of movies for the genre\n",
        "  size_duration = gen_df[gen_df[f'{genre}'] == 1]['size'].iloc[0]\n",
        "  # get the avg movie length per genre\n",
        "  avg_duration = gen_df[gen_df[f'{genre}'] == 1]['mean'].iloc[0]\n",
        "  # assign the value in a dictionary\n",
        "  genre_duration_time_dict[f'{genre}'] = [size_duration, avg_duration]"
      ]
    },
    {
      "cell_type": "code",
      "execution_count": null,
      "metadata": {
        "id": "gu4UAeENRSGw"
      },
      "outputs": [],
      "source": [
        "# genre_duration_time_dict"
      ]
    },
    {
      "cell_type": "code",
      "execution_count": null,
      "metadata": {
        "id": "zztdewWNHWd-"
      },
      "outputs": [],
      "source": [
        "# use the pandas from_dict method to turn the previous\n",
        "# dictionary into a pandas data frame\n",
        "gen_duration_time_df = pd.DataFrame.from_dict(genre_duration_time_dict,\n",
        "                                              orient='index',\n",
        "                                              columns=['num_movies_with_genre',\n",
        "                                                       'avg_duration_time'])\\\n",
        "                                              .reset_index(names='genre')\n",
        "# sort out the values from in descending order, what do you notice?\n",
        "gen_duration_time_df.sort_values('avg_duration_time', ascending=False)"
      ]
    },
    {
      "cell_type": "code",
      "execution_count": null,
      "metadata": {
        "id": "EIxS7ns2d1SM"
      },
      "outputs": [],
      "source": [
        "# give a bar plot representation for this\n",
        "plt.figure(figsize=(12, 6))\n",
        "sns.barplot(data=gen_duration_time_df.sort_values('avg_duration_time', ascending=False),\n",
        "            y='genre',\n",
        "            x='avg_duration_time')\n",
        "plt.title('Average Duration Time by Genre')\n",
        "plt.ylabel('Genre')\n",
        "plt.xlabel('Average Duration Time')\n",
        "plt.savefig('avg_duration.png',  bbox_inches='tight')\n",
        "plt.gcf()\n",
        "plt.show()"
      ]
    },
    {
      "cell_type": "markdown",
      "metadata": {
        "id": "r7SVwwACOAbY"
      },
      "source": [
        "## TV Shows Duration Exploration\n",
        "Explore some general behavior of TV shows duration and a breakdown by genre.  "
      ]
    },
    {
      "cell_type": "code",
      "execution_count": null,
      "metadata": {
        "id": "qPqyey3YOAbZ"
      },
      "outputs": [],
      "source": [
        "# Do it again for TV Shows\n",
        "## get all the tv shows\n",
        "df_shows = df[df.duration_season==True].copy()\n",
        "\n",
        "plt.figure(figsize=(6, 6))\n",
        "ax = sns.countplot(data = df_shows,\n",
        "                   y='duration',\n",
        "                   order = df_shows['duration'].value_counts().index)\n",
        "plt.title('Duration in TV Shows')\n",
        "ax.bar_label(ax.containers[0])\n",
        "plt.plot();"
      ]
    },
    {
      "cell_type": "code",
      "execution_count": null,
      "metadata": {
        "id": "y_m_YE4fOAbZ"
      },
      "outputs": [],
      "source": [
        "# are there duplicate shows, for example 1 show can have 1 season and 2 seasons\n",
        "# looks like no duplicate titles\n",
        "df_shows.title.duplicated().sum()"
      ]
    },
    {
      "cell_type": "code",
      "execution_count": null,
      "metadata": {
        "id": "axjg3XaKOAbZ"
      },
      "outputs": [],
      "source": [
        "## see how many tv shows have 1 season 2 seasons etc.\n",
        "df_shows['duration'].value_counts()"
      ]
    },
    {
      "cell_type": "code",
      "execution_count": null,
      "metadata": {
        "id": "hIcSjm_MOAbZ"
      },
      "outputs": [],
      "source": [
        "# 12 percent of tv shows on prime only have two seasons!\n",
        "df_shows['duration'].value_counts()/len(df_shows) * 100"
      ]
    },
    {
      "cell_type": "markdown",
      "metadata": {
        "id": "Ozao84B7OAbZ"
      },
      "source": [
        "#### How do TV show seasons relate to release year?"
      ]
    },
    {
      "cell_type": "code",
      "execution_count": null,
      "metadata": {
        "id": "7Ml8rUeAOAbZ"
      },
      "outputs": [],
      "source": [
        "# Distribution of movies by release year for movies and tv shows\n",
        "plt.figure(figsize=(12, 6))\n",
        "sns.histplot(data=df, x='release_year', bins=30, kde=True, hue='type')\n",
        "plt.title('Distribution of Movies and TV Show by Release Year')\n",
        "plt.xlabel('Release Year')\n",
        "plt.ylabel('Number of Movies')\n",
        "plt.show()"
      ]
    },
    {
      "cell_type": "code",
      "execution_count": null,
      "metadata": {
        "id": "2U-hgljqOAbZ"
      },
      "outputs": [],
      "source": [
        "# Distribution of movies by release year\n",
        "# at this point we can notice that tons of tv shows\n",
        "# only have 1 season\n",
        "plt.figure(figsize=(12, 6))\n",
        "sns.histplot(data=df_shows, x='release_year', bins=30, hue='duration')\n",
        "plt.title('Distribution of TV Shows by Release Year')\n",
        "plt.xlabel('Release Year')\n",
        "plt.ylabel('Number of TV Shows')\n",
        "plt.show()"
      ]
    },
    {
      "cell_type": "markdown",
      "metadata": {
        "id": "ybxqQAppOAbZ"
      },
      "source": [
        "Can probably infer that the majority of TV shows that have 1 season were created fairly recently. Let's see if we can validate that."
      ]
    },
    {
      "cell_type": "code",
      "execution_count": null,
      "metadata": {
        "id": "er8Imq_tOAbZ"
      },
      "outputs": [],
      "source": [
        "#because there are not many shows before 1990, let's remove those and\n",
        "# see what the distribution of 1 season shows looks like\n",
        "df_shows_new = df_shows[df_shows.release_year>=1990]\n",
        "df_shows_unstack = df_shows_new.groupby(['duration', 'release_year'])\\\n",
        "                               .duration.count()\\\n",
        "                               .to_frame().unstack().fillna(0).iloc[:, -22:]\n",
        "df_shows_unstack"
      ]
    },
    {
      "cell_type": "code",
      "execution_count": null,
      "metadata": {
        "id": "gbQEFa-jOAbZ"
      },
      "outputs": [],
      "source": [
        "# don't like things being out of order\n",
        "# so let's go ahead and reorder them\n",
        "unstacked_indexes = df_shows_unstack.index.tolist()\n",
        "ordered_season_num = sorted([int(x.split(' ')[0]) for x in unstacked_indexes])\n",
        "\n",
        "ordered_seasons = []\n",
        "for num in ordered_season_num:\n",
        "    for duration in  unstacked_indexes:\n",
        "        if re.search(fr'^\\b({num})\\b', f'{duration}'):\n",
        "            ordered_seasons.append(duration)\n",
        "ordered_seasons"
      ]
    },
    {
      "cell_type": "code",
      "execution_count": null,
      "metadata": {
        "id": "R3ndrBdcOAbZ"
      },
      "outputs": [],
      "source": [
        "# groupby the duration and release year, count the\n",
        "# number of times that this these occur together\n",
        "# unpivot using unstack and place it into\n",
        "# a nice pandas dataframe from the year 2000 onwards\n",
        "df_shows_gpby = df_shows_new.groupby(['duration', 'release_year'])\\\n",
        "                            .duration.count().rename('release_year')\\\n",
        "                            .to_frame().unstack()\\\n",
        "                            .fillna(0).iloc[:, -22:]\\\n",
        "                            .reindex(ordered_seasons)\n",
        "df_shows_gpby"
      ]
    },
    {
      "cell_type": "code",
      "execution_count": null,
      "metadata": {
        "id": "m4Juhpu8OAba"
      },
      "outputs": [],
      "source": [
        "# plot a heatmap equivalent of this dataframe\n",
        "plt.figure(figsize=(26, 8))\n",
        "sns.heatmap(df_shows_gpby, cmap=\"Blues\", annot=True)\n",
        "plt.show()"
      ]
    },
    {
      "cell_type": "code",
      "execution_count": null,
      "metadata": {
        "id": "bQBHZAu1OAba"
      },
      "outputs": [],
      "source": [
        "# sum across the columns to show how many\n",
        "# tv shows have 1 season, 2 season, 3 season etc.\n",
        "df_shows_gpby.sum(axis=1)"
      ]
    },
    {
      "cell_type": "markdown",
      "metadata": {
        "id": "ZfSEoQtHOAba"
      },
      "source": [
        "Interesting that 1280 out of the 1342 of the shows that have 1 season were released in 2000 or later. What do we think this means?"
      ]
    },
    {
      "cell_type": "code",
      "execution_count": null,
      "metadata": {
        "id": "sOr-1_FuOAba"
      },
      "outputs": [],
      "source": [
        "df_shows[df_shows.duration == '14 Seasons'].title.values.tolist()"
      ]
    },
    {
      "cell_type": "markdown",
      "metadata": {
        "id": "MNzqMJlpd01p"
      },
      "source": [
        "#### TV Shows Season Duration vs Genres\n",
        "Can we see a breakdown of TV shows season lengths vs the genres of those tv shows. Do certain genres last longer than others at least on Amazon prime."
      ]
    },
    {
      "cell_type": "code",
      "execution_count": null,
      "metadata": {
        "id": "QFFnlKUkTiGJ"
      },
      "outputs": [],
      "source": [
        "# using the python split method\n",
        "# get the season length of each tv show\n",
        "df_shows['season_length'] = df_shows.duration.apply(lambda x : int(x.split(' ')[0]))\n",
        "df_shows.head()"
      ]
    },
    {
      "cell_type": "code",
      "execution_count": null,
      "metadata": {
        "id": "3hjQrDAzThku"
      },
      "outputs": [],
      "source": [
        "# similar to the movies portion above, take the shows data frame\n",
        "# and merge it on the genres data frame\n",
        "df_shows_genre = df_shows.merge(df_genre, on=['title', 'listed_in'], how='left')\n",
        "df_shows_genre.head()"
      ]
    },
    {
      "cell_type": "code",
      "execution_count": null,
      "metadata": {
        "id": "mssU_Q-RUPFW"
      },
      "outputs": [],
      "source": [
        "# create an empty dictionary\n",
        "genre_duration_time_dict_shows = {}\n",
        "\n",
        "# go through each genre, find the average duration time\n",
        "# and place that value in the dictionary with the genre as a key\n",
        "for genre in genres:\n",
        "  # group by to get total movies per genre and their avg time\n",
        "  gen_df = df_shows_genre.groupby(f'{genre}')\\\n",
        "                         .season_length\\\n",
        "                         .agg(['size','mean'])\\\n",
        "                         .reset_index()\n",
        "  # get the total number of movies for the genre\n",
        "  size_duration = gen_df[gen_df[f'{genre}'] == 1]['size'].iloc[0]\n",
        "  # get the avg movie length per genre\n",
        "  avg_duration = gen_df[gen_df[f'{genre}'] == 1]['mean'].iloc[0]\n",
        "  # assign the value in a dictionary\n",
        "  genre_duration_time_dict_shows[f'{genre}'] = [size_duration, avg_duration]"
      ]
    },
    {
      "cell_type": "code",
      "execution_count": null,
      "metadata": {
        "id": "fBX7L4DAUa52"
      },
      "outputs": [],
      "source": [
        "# genre_duration_time_dict_shows"
      ]
    },
    {
      "cell_type": "code",
      "execution_count": null,
      "metadata": {
        "id": "q8i7YwCSUWZ-"
      },
      "outputs": [],
      "source": [
        "# use the pandas from_dict method to turn the previous\n",
        "# dictionary into a pandas data frame\n",
        "gen_duration_time_df_shows = pd.DataFrame.from_dict(genre_duration_time_dict_shows,\n",
        "                                              orient='index',\n",
        "                                              columns=['num_shows_with_genre', 'avg_duration_time'])\\\n",
        "                                              .reset_index(names='genre')\n",
        "# sort out the values from in descending order, what do you notice?\n",
        "gen_duration_time_df_shows.sort_values('avg_duration_time', ascending=False)"
      ]
    },
    {
      "cell_type": "code",
      "execution_count": null,
      "metadata": {
        "id": "jIAzuEvtfll5"
      },
      "outputs": [],
      "source": [
        "# give a bar plot representation for this\n",
        "plt.figure(figsize=(12, 6))\n",
        "sns.barplot(data=gen_duration_time_df_shows.sort_values('avg_duration_time', ascending=False),\n",
        "            y='genre',\n",
        "            x='avg_duration_time')\n",
        "plt.title('Average TV Show Duration Time by Genre')\n",
        "plt.ylabel('Genre')\n",
        "plt.xlabel('Average Season Duration Time')\n",
        "# plt.savefig('avg_duration.png',  bbox_inches='tight')\n",
        "# plt.gcf()\n",
        "plt.show()"
      ]
    },
    {
      "cell_type": "markdown",
      "metadata": {
        "id": "C_KChY10OAba"
      },
      "source": [
        "# Country Breakdown\n",
        "Are there any insights to be had broken down by country? Let's plot some descriptive plots to visualize things like duration."
      ]
    },
    {
      "cell_type": "code",
      "execution_count": null,
      "metadata": {
        "id": "W5JdVZomOAba"
      },
      "outputs": [],
      "source": [
        "# plot the top 15 countries by how they appear in the\n",
        "# data set\n",
        "top_countries = df['country'].value_counts().head(15).index\n",
        "\n",
        "# Filter the data for the top countries\n",
        "country_data = df[df['country'].isin(top_countries)]\n",
        "\n",
        "# Visualize the total movies and tv shows for the top countries\n",
        "plt.figure(figsize=(22, 11))\n",
        "sns.countplot(x='country',\n",
        "              data=country_data,\n",
        "              hue='type',\n",
        "              order=top_countries,\n",
        "              palette='viridis')\n",
        "plt.title('Total Movies and Shows by Top Countries')\n",
        "plt.xlabel('Country')\n",
        "plt.ylabel('Number of Shows')\n",
        "plt.legend(title='Type', loc='upper right')\n",
        "plt.xticks(rotation=45, ha='right')\n",
        "plt.show()"
      ]
    },
    {
      "cell_type": "code",
      "execution_count": null,
      "metadata": {
        "id": "4GCcTi6HOAba"
      },
      "outputs": [],
      "source": [
        "# Visualize the total shows by country for the top countries\n",
        "# Top N countries\n",
        "top_countries = df['country'].value_counts().head(5).index\n",
        "\n",
        "df_movies_top_countries = df_movies[df_movies.country.isin(top_countries)]\n",
        "\n",
        "plt.figure(figsize=(22, 11))\n",
        "sns.boxplot(x='country',\n",
        "            data=df_movies_top_countries,\n",
        "            y='duration_time',\n",
        "            hue='country',\n",
        "            palette=['r','g','b','m', 'y'])\n",
        "plt.title('Total Shows by Top Countries')\n",
        "plt.xlabel('Country')\n",
        "plt.ylabel('Duration of time')\n",
        "plt.legend(title='Type', loc='upper right')\n",
        "plt.xticks(rotation=45, ha='right')\n",
        "plt.show();"
      ]
    },
    {
      "cell_type": "code",
      "execution_count": null,
      "metadata": {
        "id": "iw6fwszYOAba"
      },
      "outputs": [],
      "source": [
        "# Visualize the total shows by country for the top countries\n",
        "# Top N countries\n",
        "top_countries = df['country'].value_counts().head(5).index\n",
        "\n",
        "df_movies_top_countries = df_movies[df_movies.country.isin(top_countries)]\n",
        "\n",
        "plt.figure(figsize=(22, 8))\n",
        "sns.violinplot(x='country',\n",
        "               data=df_movies_top_countries,\n",
        "               y='duration_time',\n",
        "               hue='country',\n",
        "               palette=['r','g','b','m', 'y'])\n",
        "plt.title('Total Shows by Top Countries')\n",
        "plt.xlabel('Country')\n",
        "plt.ylabel('Duration of time')\n",
        "plt.legend(title='Type', loc='upper right')\n",
        "plt.xticks(rotation=45, ha='right')\n",
        "plt.show();"
      ]
    },
    {
      "cell_type": "markdown",
      "metadata": {
        "id": "ZnVgA2HoOAba"
      },
      "source": [
        "# Descriptions Recommendations Exploration\n",
        "Recommendation systems are usually done via user interest and stats e.g., what movies have they watched, shows liked, minutes watched, genres watched etc. Since we don't have user data in that way, let's develop a basic recommendation system that will return the top 5 movies based off of a user query for what they would like to watch."
      ]
    },
    {
      "cell_type": "code",
      "execution_count": null,
      "metadata": {
        "id": "mzrqkj_3OAba"
      },
      "outputs": [],
      "source": [
        "# let's look at only movies and their descriptions\n",
        "df[df.type == 'Movie'].description.values[:7]"
      ]
    },
    {
      "cell_type": "code",
      "execution_count": null,
      "metadata": {
        "id": "Wq_sSydrOAba"
      },
      "outputs": [],
      "source": [
        "# get the lengths of each of the descriptions and see what those look like\n",
        "df['description_length'] = df.description.apply(lambda x : len(x.split(' ')))\n",
        "df.sample(7)\n"
      ]
    },
    {
      "cell_type": "code",
      "execution_count": null,
      "metadata": {
        "id": "nvNhMW3eOAba"
      },
      "outputs": [],
      "source": [
        "# plot a violin plot of the description lengths\n",
        "# this will give us an idea of how long each description is\n",
        "# upon using embeddings\n",
        "plt.figure(figsize=(8,8))\n",
        "sns.violinplot(data=df, x='type', y='description_length')\n",
        "plt.show();"
      ]
    },
    {
      "cell_type": "markdown",
      "metadata": {
        "id": "5fp4Y-2H-Q69"
      },
      "source": [
        "To find general recommendations, we first need to embed the descriptions that we do have into a numerical embedding. Ideally, we'd like for the numerical embeddings to have all the contextual information that describes the film e.g., a drama about sports, comedies about friends etc.\n",
        "\n",
        "This is going to require us to first embed text into it's numerical representation through the use of LLMs. A powerful technique that does this is the so called Sentence Transformer. Instead of transforming individual words into numerical embeddings, we are going to transform sentences or paragraphs into their numerical embeddings that way we get all of the contextual information needed. More information sentence transformers can be found [here](https://www.sbert.net/)."
      ]
    },
    {
      "cell_type": "code",
      "execution_count": null,
      "metadata": {
        "id": "Hyub5T8luBKU"
      },
      "outputs": [],
      "source": [
        "# import the general use sentence transformer all-mpnet-base-v2\n",
        "model = SentenceTransformer('all-mpnet-base-v2')"
      ]
    },
    {
      "cell_type": "code",
      "execution_count": null,
      "metadata": {
        "id": "0dKstSCGypVe"
      },
      "outputs": [],
      "source": [
        "# create a dictionary that will keep\n",
        "# track of movie titles and descriptions\n",
        "movie_dict = {\n",
        "    'movie': df[df.type == 'Movie'].title.values,\n",
        "    'descriptions' : df[df.type == 'Movie'].description.values\n",
        "}"
      ]
    },
    {
      "cell_type": "code",
      "execution_count": null,
      "metadata": {
        "id": "KfHjopG5oXNR"
      },
      "outputs": [],
      "source": [
        "# get the movie descriptions into a variable\n",
        "movie_descriptions = movie_dict['descriptions']"
      ]
    },
    {
      "cell_type": "code",
      "execution_count": null,
      "metadata": {
        "id": "2cTEkvvYuCDe"
      },
      "outputs": [],
      "source": [
        "# embed to the descriptions into their\n",
        "# numerical embeddings\n",
        "embeddings = model.encode(movie_dict['descriptions'] , show_progress_bar=True)"
      ]
    },
    {
      "cell_type": "code",
      "execution_count": null,
      "metadata": {
        "id": "EDVJ8ZHtxIO6"
      },
      "outputs": [],
      "source": [
        "# get the embeddings shape\n",
        "embeddings.shape"
      ]
    },
    {
      "cell_type": "code",
      "execution_count": null,
      "metadata": {
        "id": "VF8UyyFrwNvY"
      },
      "outputs": [],
      "source": [
        "# given a user query, let's embed\n",
        "# the query into it's numerical representation\n",
        "user_query = 'a drama about sports'\n",
        "query_embedding = model.encode(f'{user_query}')"
      ]
    },
    {
      "cell_type": "code",
      "execution_count": null,
      "metadata": {
        "id": "L8sFHsTFyKBY"
      },
      "outputs": [],
      "source": [
        "# another example\n",
        "user_query = 'comedies for adults'\n",
        "query_embedding = model.encode(f'{user_query}')"
      ]
    },
    {
      "cell_type": "code",
      "execution_count": null,
      "metadata": {
        "id": "G2_Tg55CwMUP"
      },
      "outputs": [],
      "source": [
        "# get the similarity between the query embedding and\n",
        "# the movies\n",
        "similarity_array = cosine_similarity(query_embedding.reshape(1, -1), embeddings)"
      ]
    },
    {
      "cell_type": "code",
      "execution_count": null,
      "metadata": {
        "id": "1LClSQU0z5k8"
      },
      "outputs": [],
      "source": [
        "# get the top 5 movie descriptions that\n",
        "# are most similar to the query\n",
        "top_five_sim_indices = np.argsort(-similarity_array)[0][:5].tolist()"
      ]
    },
    {
      "cell_type": "code",
      "execution_count": null,
      "metadata": {
        "id": "GAmRBIFn1Vng"
      },
      "outputs": [],
      "source": [
        "# print out the top 5 most\n",
        "# similar movies to the user query\n",
        "for idx in top_five_sim_indices:\n",
        "  print(f\"Title: {movie_dict['movie'][idx]}\")\n",
        "  print()\n",
        "  print(f\"Description: {movie_dict['descriptions'][idx]}\")\n",
        "  print('---------------------')"
      ]
    },
    {
      "cell_type": "markdown",
      "metadata": {
        "id": "iNG5xhczhRQU"
      },
      "source": [
        "# Topic Model the Descriptions\n",
        "Given a large corpus of movies descriptions, can we find out what the movies are about without having to read each one? In other words, can we get a general sense of what types of movies are in the data set just from examining the text?\n",
        "\n",
        "This is what is known as Topic Modeling and their are a variety of ways to do it, one of the more powerful method is known as BertTopic. For more information on BertTopic please see [here](https://maartengr.github.io/BERTopic/index.html)"
      ]
    },
    {
      "cell_type": "code",
      "execution_count": null,
      "metadata": {
        "id": "JvfJRaepjV6f"
      },
      "outputs": [],
      "source": [
        "# Step 1 - Extract embeddings\n",
        "embedding_model = SentenceTransformer(\"all-mpnet-base-v2\")\n",
        "\n",
        "# Step 2 - Reduce dimensionality\n",
        "umap_model = UMAP(n_neighbors=30, n_components=5, min_dist=0.0, metric='cosine')\n",
        "\n",
        "# Step 3 - Cluster reduced embeddings\n",
        "hdbscan_model = HDBSCAN(min_cluster_size=18, metric='euclidean', cluster_selection_method='eom', prediction_data=True)\n",
        "\n",
        "# Step 4 - Tokenize topics\n",
        "vectorizer_model = CountVectorizer(stop_words=\"english\")\n",
        "\n",
        "# Step 5 - Create topic representation\n",
        "ctfidf_model = ClassTfidfTransformer()\n",
        "\n",
        "# All steps together\n",
        "topic_model = BERTopic(\n",
        "  embedding_model=embedding_model,          # Step 1 - Extract embeddings\n",
        "  umap_model=umap_model,                    # Step 2 - Reduce dimensionality\n",
        "  hdbscan_model=hdbscan_model,              # Step 3 - Cluster reduced embeddings\n",
        "  vectorizer_model=vectorizer_model,        # Step 4 - Tokenize topics\n",
        "  ctfidf_model=ctfidf_model                # Step 5 - Extract topic words\n",
        ")\n"
      ]
    },
    {
      "cell_type": "code",
      "execution_count": null,
      "metadata": {
        "id": "t9iCavDajVgA"
      },
      "outputs": [],
      "source": [
        "# fit transform the model - this can take some time\n",
        "# make sure to run it on a GPU if possible\n",
        "topics, probs = topic_model.fit_transform(movie_descriptions)"
      ]
    },
    {
      "cell_type": "code",
      "execution_count": null,
      "metadata": {
        "id": "jbxS_BVDoaKy"
      },
      "outputs": [],
      "source": [
        "# get the general sense of topics\n",
        "# -1 correspond to outliers and weren't assigned a topic\n",
        "model_topic_info = topic_model.get_topic_info()\n",
        "model_topic_info"
      ]
    },
    {
      "cell_type": "code",
      "execution_count": null,
      "metadata": {
        "id": "5HEW4Xqcobg1"
      },
      "outputs": [],
      "source": [
        "# if you want to get a general sense of waht words\n",
        "# are in each topic\n",
        "cluster = 3\n",
        "topic_model.get_topic(cluster)"
      ]
    },
    {
      "cell_type": "code",
      "execution_count": null,
      "metadata": {
        "id": "1QnqDwUW8tbc"
      },
      "outputs": [],
      "source": [
        "# see what the outliers look like\n",
        "model_topic_info[model_topic_info.Topic == -1].Representative_Docs.values[0]"
      ]
    },
    {
      "cell_type": "code",
      "execution_count": null,
      "metadata": {
        "id": "sYnQCWJtobMf"
      },
      "outputs": [],
      "source": [
        "#\n",
        "topic_model.get_document_info(movie_descriptions).sample(7)"
      ]
    },
    {
      "cell_type": "code",
      "execution_count": null,
      "metadata": {
        "id": "tuuCFDKboa0N"
      },
      "outputs": [],
      "source": [
        "# if you would like to visualize the topics you can look at the following three\n",
        "# plots\n",
        "topic_model.visualize_topics()"
      ]
    },
    {
      "cell_type": "code",
      "execution_count": null,
      "metadata": {
        "id": "2LBjCZ3WtBx6"
      },
      "outputs": [],
      "source": [
        "topic_model.visualize_barchart()"
      ]
    },
    {
      "cell_type": "code",
      "execution_count": null,
      "metadata": {
        "id": "VzoS4YtAtum8"
      },
      "outputs": [],
      "source": [
        "topic_model.visualize_heatmap()"
      ]
    },
    {
      "cell_type": "code",
      "execution_count": null,
      "metadata": {
        "id": "NqxZDzB5oHY6"
      },
      "outputs": [],
      "source": []
    }
  ],
  "metadata": {
    "colab": {
      "machine_shape": "hm",
      "provenance": []
    },
    "kernelspec": {
      "display_name": "Python 3",
      "name": "python3"
    },
    "language_info": {
      "codemirror_mode": {
        "name": "ipython",
        "version": 3
      },
      "file_extension": ".py",
      "mimetype": "text/x-python",
      "name": "python",
      "nbconvert_exporter": "python",
      "pygments_lexer": "ipython3",
      "version": "3.9.13"
    },
    "orig_nbformat": 4
  },
  "nbformat": 4,
  "nbformat_minor": 0
}
